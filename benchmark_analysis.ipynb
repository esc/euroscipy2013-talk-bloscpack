{
 "metadata": {
  "name": ""
 },
 "nbformat": 3,
 "nbformat_minor": 0,
 "worksheets": [
  {
   "cells": [
    {
     "cell_type": "code",
     "collapsed": false,
     "input": [
      "import pandas as pd"
     ],
     "language": "python",
     "metadata": {},
     "outputs": []
    },
    {
     "cell_type": "code",
     "collapsed": false,
     "input": [
      "df = pd.DataFrame.from_csv('results.csv')"
     ],
     "language": "python",
     "metadata": {},
     "outputs": []
    },
    {
     "cell_type": "code",
     "collapsed": false,
     "input": [
      "df"
     ],
     "language": "python",
     "metadata": {},
     "outputs": []
    },
    {
     "cell_type": "code",
     "collapsed": false,
     "input": [
      "# consider only ssd storage\n",
      "it = df[df['storage'] == 'ssd']\n",
      "# consider only large test size\n",
      "it = it[it['size'] == 'large']\n",
      "# compare bloscpack with npy\n",
      "it = it[it['codec'].isin(['bloscpack', 'npy'])]\n",
      "idx = list(it.columns)\n",
      "idx.pop(1) # remove the storage column\n",
      "idx.pop(-1) # remove the ratio column\n",
      "it = it[idx]\n",
      "# reindex using entropy, codec and level\n",
      "it = it.set_index(['entropy', 'codec', 'level'])"
     ],
     "language": "python",
     "metadata": {},
     "outputs": [],
     "prompt_number": 59
    },
    {
     "cell_type": "code",
     "collapsed": false,
     "input": [
      "# plot low entropy\n",
      "it.ix['low'].plot(kind='barh', figsize=(12, 12))"
     ],
     "language": "python",
     "metadata": {},
     "outputs": []
    },
    {
     "cell_type": "code",
     "collapsed": false,
     "input": [
      "# plot medium entropy\n",
      "it.ix['medium'].plot(kind='barh', figsize=(12, 12))"
     ],
     "language": "python",
     "metadata": {},
     "outputs": []
    },
    {
     "cell_type": "code",
     "collapsed": false,
     "input": [
      "# plot \n",
      "it.ix['high'].plot(kind='barh', figsize=(12, 12))"
     ],
     "language": "python",
     "metadata": {},
     "outputs": []
    },
    {
     "cell_type": "code",
     "collapsed": false,
     "input": [],
     "language": "python",
     "metadata": {},
     "outputs": []
    }
   ],
   "metadata": {}
  }
 ]
}