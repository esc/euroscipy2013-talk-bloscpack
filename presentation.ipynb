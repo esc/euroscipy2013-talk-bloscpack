{
 "metadata": {
  "name": ""
 },
 "nbformat": 3,
 "nbformat_minor": 0,
 "worksheets": [
  {
   "cells": [
    {
     "cell_type": "markdown",
     "metadata": {
      "slideshow": {
       "slide_type": "slide"
      }
     },
     "source": [
      "<p class=\"title\">Bloscpack</p>\n",
      "\n",
      "<p class=\"subtitle\">CLI and serialization format using Blosc.</p>\n",
      "\n",
      "<center>\n",
      "\n",
      "<p class=\"gap05\"<p>\n",
      "<h2>[https://github.com/esc/bloscpack](https://github.com/esc/bloscpack)</h2>\n",
      "\n",
      "<p class=\"gap05\"<p>\n",
      "<h3> Valentin Haenel </h3>\n",
      "<h3>[valentin@haenel.co](mailto:valentin@haenel.co), [haenel.co](http://haenel.co), [@esc\\_\\_\\_](http://twitter.com/esc___)</h3>\n",
      "<h3>Freelance Software Enginner and Consultant</h3>\n",
      "\n",
      "<p class=\"gap2\"<p>\n",
      "</center>"
     ]
    },
    {
     "cell_type": "code",
     "collapsed": false,
     "input": [
      "# I keep this as a cell in my title slide so I can rerun \n",
      "# it easily if I make changes, but it's low enough it won't\n",
      "# be visible in presentation mode.\n",
      "%run talktools"
     ],
     "language": "python",
     "metadata": {
      "slideshow": {
       "slide_type": "notes"
      }
     },
     "outputs": []
    },
    {
     "cell_type": "markdown",
     "metadata": {
      "slideshow": {
       "slide_type": "slide"
      }
     },
     "source": [
      "## Blosc\n",
      "\n",
      "* High throughput codec created by Francesc Alted of PyTables fame\n",
      "\n",
      "  * Blocking (but not in the IO sense)\n",
      "  * Shuffling\n",
      "  * Fast\n",
      "  * Multithreaded\n",
      "  * Design for in-memory compression\n",
      "  \n",
      "* http://blosc.pytables.org/trac"
     ]
    },
    {
     "cell_type": "markdown",
     "metadata": {
      "slideshow": {
       "slide_type": "slide"
      }
     },
     "source": [
      "## Memory Hierarchy\n",
      "\n",
      "<center>\n",
      "    <img src=\"files/architecture_evolution.png\" />\n",
      "</center>"
     ]
    },
    {
     "cell_type": "markdown",
     "metadata": {
      "slideshow": {
       "slide_type": "slide"
      }
     },
     "source": [
      "## Blosc mid 2012\n",
      "\n",
      "<table>\n",
      "<tr>\n",
      "<td><img src=\"files/linux-3930K-compr-small.png\" alt=\"compression\"></td>\n",
      "<td><img src=\"files/linux-3930K-decompr-small.png\" alt=\"compression\"></td>\n",
      "</tr>\n",
      "</table> \n",
      "\n",
      "http://blosc.pytables.org/trac/wiki/SyntheticBenchmarks"
     ]
    },
    {
     "cell_type": "markdown",
     "metadata": {
      "slideshow": {
       "slide_type": "slide"
      }
     },
     "source": [
      "## Bloscpack\n",
      "\n",
      "* Initially:\n",
      "  * a toy to learn more about Blosc\n",
      "\n",
      "\n",
      "* Became:\n",
      "  * Persist Blosc compressed buffers to disk\n",
      "  * Reduce IO load during serialization\n",
      "  * Storage format for binary data"
     ]
    },
    {
     "cell_type": "markdown",
     "metadata": {
      "slideshow": {
       "slide_type": "slide"
      }
     },
     "source": [
      "## Facts\n",
      "\n",
      "* Version: `0.4.0-rc1`\n",
      "* Apprx 1000 commits\n",
      "* 94 % test coverage\n",
      "* Python 2.6 and 2.7\n",
      "* Pure Python\n",
      "* Uses [`python-blosc`](http://blosc.pytables.org/trac/wiki/SyntheticBenchmarks) to interface with Blosc"
     ]
    },
    {
     "cell_type": "markdown",
     "metadata": {
      "slideshow": {
       "slide_type": "slide"
      }
     },
     "source": [
      "## Features\n",
      "\n",
      "* Chunks\n",
      "* Offsets\n",
      "* Checksum\n",
      "* Metadata\n",
      "* Lightweight\n"
     ]
    },
    {
     "cell_type": "markdown",
     "metadata": {
      "slideshow": {
       "slide_type": "slide"
      }
     },
     "source": [
      "## Format\n",
      "\n",
      "\n",
      "#### File layout\n",
      "\n",
      "<code>\n",
      "|-header-|-meta-|-offsets-|-chunk-|-checksum-|-chunk-|-checksum-|...|\n",
      "</code>\n",
      "\n",
      "#### Header format\n",
      "\n",
      "<code>\n",
      "|-0-|-1-|-2-|-3-|-4-|-5-|-6-|-7-|-8-|-9-|-A-|-B-|-C-|-D-|-E-|-F-|\n",
      "| b   l   p   k | ^ | ^ | ^ | ^ |   chunk-size  |  last-chunk   |\n",
      "                  |   |   |   |\n",
      "      version ----+   |   |   |\n",
      "      options --------+   |   |\n",
      "     checksum ------------+   |\n",
      "     typesize ----------------+\n",
      "\n",
      "|-0-|-1-|-2-|-3-|-4-|-5-|-6-|-7-|-8-|-9-|-A-|-B-|-C-|-D-|-E-|-F-|\n",
      "|            nchunks            |        max-app-chunks         |\n",
      "</code>"
     ]
    },
    {
     "cell_type": "markdown",
     "metadata": {
      "slideshow": {
       "slide_type": "slide"
      }
     },
     "source": [
      "## Serialize Numpy arrays (since 2013-08-13)\n",
      "\n",
      "* Store `dtype`, `shape` and `order` in metadata section\n",
      "* Compress directly from and into the Numpy data buffer\n",
      "* Requires the array to be contiguous"
     ]
    },
    {
     "cell_type": "code",
     "collapsed": false,
     "input": [
      "import numpy as np\n",
      "import bloscpack as bp\n",
      "a = np.linspace(0,100, 2e8)"
     ],
     "language": "python",
     "metadata": {},
     "outputs": []
    },
    {
     "cell_type": "code",
     "collapsed": false,
     "input": [
      "bp.pack_ndarray_file(a, 'a.blp')\n",
      "b = bp.unpack_ndarray_file('a.blp')\n",
      "(a == b).all() "
     ],
     "language": "python",
     "metadata": {},
     "outputs": []
    },
    {
     "cell_type": "code",
     "collapsed": false,
     "input": [
      "del a, b"
     ],
     "language": "python",
     "metadata": {},
     "outputs": []
    },
    {
     "cell_type": "markdown",
     "metadata": {
      "slideshow": {
       "slide_type": "slide"
      }
     },
     "source": [
      "## NPY ( Robert Kern, 2007)\n",
      "\n",
      "\n",
      "* Represent all NumPy arrays including nested record\n",
      "  arrays and object arrays. [n]\n",
      "\n",
      "* Represent the data in its native binary form. [y]\n",
      "\n",
      "* Be contained in a single file. [y]\n",
      "\n",
      "* Support Fortran-contiguous arrays directly. [y]\n",
      "\n",
      "* Store all of the necessary information to reconstruct the array\n",
      "  including shape and dtype on a machine of a different\n",
      "  architecture [...] Endianness [...] Type. [maybe]\n",
      "\n",
      "* Be reverse engineered. [y]\n",
      "\n",
      "* Allow memory-mapping of the data. [maybe]\n",
      "\n",
      "* Be read from a filelike stream object instead of an actual file. [y]\n",
      "\n",
      "* Be read and written using APIs provided in the numpy package. [n]"
     ]
    },
    {
     "cell_type": "heading",
     "level": 2,
     "metadata": {
      "slideshow": {
       "slide_type": "slide"
      }
     },
     "source": [
      "Demo"
     ]
    },
    {
     "cell_type": "code",
     "collapsed": false,
     "input": [
      "import numpy as np\n",
      "import bloscpack as bp\n",
      "a = np.linspace(0,100, 2e8)"
     ],
     "language": "python",
     "metadata": {},
     "outputs": []
    },
    {
     "cell_type": "code",
     "collapsed": false,
     "input": [
      "%time np.save('a.npy', a)"
     ],
     "language": "python",
     "metadata": {},
     "outputs": []
    },
    {
     "cell_type": "code",
     "collapsed": false,
     "input": [
      "%time bp.pack_ndarray_file(a, 'a.blp')"
     ],
     "language": "python",
     "metadata": {},
     "outputs": []
    },
    {
     "cell_type": "code",
     "collapsed": false,
     "input": [
      "del a"
     ],
     "language": "python",
     "metadata": {},
     "outputs": []
    },
    {
     "cell_type": "code",
     "collapsed": false,
     "input": [
      "%time b = np.load('a.npy')"
     ],
     "language": "python",
     "metadata": {},
     "outputs": []
    },
    {
     "cell_type": "code",
     "collapsed": false,
     "input": [
      "%time b = bp.unpack_ndarray_file('a.blp')"
     ],
     "language": "python",
     "metadata": {},
     "outputs": []
    },
    {
     "cell_type": "code",
     "collapsed": false,
     "input": [
      "del a, b"
     ],
     "language": "python",
     "metadata": {},
     "outputs": []
    },
    {
     "cell_type": "code",
     "collapsed": false,
     "input": [
      "bp.drop_caches()\n",
      "%time b = np.load('a.npy')"
     ],
     "language": "python",
     "metadata": {
      "slideshow": {
       "slide_type": "fragment"
      }
     },
     "outputs": []
    },
    {
     "cell_type": "code",
     "collapsed": false,
     "input": [
      "bp.drop_caches()\n",
      "%time b = bp.unpack_ndarray_file('a.blp')"
     ],
     "language": "python",
     "metadata": {
      "slideshow": {
       "slide_type": "fragment"
      }
     },
     "outputs": []
    },
    {
     "cell_type": "markdown",
     "metadata": {
      "slideshow": {
       "slide_type": "slide"
      }
     },
     "source": [
      "## Real-world use-case #1: Joblib\n",
      "\n",
      "* [Joblib](http://pythonhosted.org/joblib/) (G. Varoquaux, O. Grisel, et. al.)\n",
      "* `Memory` object that caches function input and output\n",
      "* Uses `npy` for uncompressed storage\n",
      "* Uses custom `ZFile` format for compressed storage\n",
      "* Based on `zlib` (`gzip`)\n",
      "\n",
      "\n",
      "* Bloscpack *could* be an alternative\n",
      "  * (I have two experimental branches with different implementation strategies)"
     ]
    },
    {
     "cell_type": "code",
     "collapsed": true,
     "input": [
      "import joblib as joblib\n",
      "import numpy as np\n",
      "memory = joblib.Memory(cachedir='/tmp/joblib',\n",
      "                       verbose=100, compress=7,\n",
      "                       codec='bloscpack')\n",
      "\n",
      "@memory.cache\n",
      "def f(size):\n",
      "    return np.linspace(0, np.pi*16, size)\n",
      "  \n",
      "f(2e8)"
     ],
     "language": "python",
     "metadata": {},
     "outputs": []
    },
    {
     "cell_type": "markdown",
     "metadata": {
      "slideshow": {
       "slide_type": "slide"
      }
     },
     "source": [
      "## Real-world use-case #2: Blaze\n",
      "\n",
      "* [Blaze](http://blaze.pydata.org/) (Continuum Analytics)\n",
      "* Uses Blosc as an in-memory representation\n",
      "* Serializes to disk using Bloscpack\n",
      "\n",
      "<center>\n",
      "<image src=\"files/blz_layout_cropped.png\"/>\n",
      "</center>\n",
      "\n",
      "http://continuum.io/blog/blz-format"
     ]
    },
    {
     "cell_type": "markdown",
     "metadata": {},
     "source": [
      "## "
     ]
    }
   ],
   "metadata": {}
  }
 ]
}