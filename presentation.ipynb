{
 "metadata": {
  "name": ""
 },
 "nbformat": 3,
 "nbformat_minor": 0,
 "worksheets": [
  {
   "cells": [
    {
     "cell_type": "markdown",
     "metadata": {
      "slideshow": {
       "slide_type": "slide"
      }
     },
     "source": [
      "<p class=\"title\">Bloscpack</p>\n",
      "\n",
      "<p class=\"subtitle\">Data serialization with Blosc.</p>\n",
      "\n",
      "<center>\n",
      "\n",
      "<p class=\"gap05\"<p>\n",
      "<h3>[https://github.com/esc/bloscpack](https://github.com/esc/bloscpack)</h3>\n",
      "\n",
      "<h3>[https://github.com/esc/euroscipy2013-talk-bloscpack](https://github.com/esc/euroscipy2013-talk-bloscpack)</h3>\n",
      "\n",
      "<p class=\"gap05\"<p>\n",
      "<h3> Valentin Haenel </h3>\n",
      "<h3>[valentin@haenel.co](mailto:valentin@haenel.co), [haenel.co](http://haenel.co), [@esc\\_\\_\\_](http://twitter.com/esc___)</h3>\n",
      "<h3>Freelance Software Engineer and Consultant</h3>\n",
      "\n",
      "<p class=\"gap2\"<p>\n",
      "</center>"
     ]
    },
    {
     "cell_type": "code",
     "collapsed": false,
     "input": [
      "# I keep this as a cell in my title slide so I can rerun \n",
      "# it easily if I make changes, but it's low enough it won'tj\n",
      "# be visible in presentation mode.\n",
      "%run talktools"
     ],
     "language": "python",
     "metadata": {
      "slideshow": {
       "slide_type": "notes"
      }
     },
     "outputs": [
      {
       "html": [
        "<style>\n",
        "\n",
        ".rendered_html\n",
        "{\n",
        "  color: #2C5494;\n",
        "  font-family: Ubuntu;\n",
        "  font-size: 140%;\n",
        "  line-height: 1.1;\n",
        "  margin: 0.5em 0;\n",
        "  }\n",
        "\n",
        ".title\n",
        "{\n",
        "  color: #498AF3;\n",
        "  font-size: 250%;\n",
        "  font-weight:bold;\n",
        "  line-height: 1.2; \n",
        "  margin: 10px 50px 10px;\n",
        "  }\n",
        "\n",
        ".subtitle\n",
        "{\n",
        "  color: #386BBC;\n",
        "  font-size: 180%;\n",
        "  font-weight:bold;\n",
        "  line-height: 1.2; \n",
        "  margin: 20px 50px 20px;\n",
        "  }\n",
        "\n",
        ".slide-header, p.slide-header\n",
        "{\n",
        "  color: #498AF3;\n",
        "  font-size: 200%;\n",
        "  font-weight:bold;\n",
        "  margin: 0px 20px 10px;\n",
        "  page-break-before: always;\n",
        "  text-align: center;\n",
        "  }\n",
        "\n",
        ".rendered_html h1\n",
        "{\n",
        "  color: #498AF3;\n",
        "  line-height: 1.2; \n",
        "  margin: 0.15em 0em 0.5em;\n",
        "  page-break-before: always;\n",
        "  text-align: center;\n",
        "  }\n",
        "\n",
        "\n",
        ".rendered_html h2\n",
        "{ \n",
        "  color: #386BBC;\n",
        "  line-height: 1.2;\n",
        "  margin: 1.1em 0em 0.5em;\n",
        "  }\n",
        "\n",
        ".rendered_html h3\n",
        "{ \n",
        "  font-size: 100%;\n",
        "  line-height: 1.2;\n",
        "  margin: 1.1em 0em 0.5em;\n",
        "  }\n",
        "\n",
        ".rendered_html li\n",
        "{\n",
        "  line-height: 1.8;\n",
        "  }\n",
        "\n",
        ".input_prompt, .CodeMirror-lines, .output_area\n",
        "{\n",
        "  font-style: normal;\n",
        "  font-weight: normal;\n",
        "  font-size: 100%;\n",
        "  }\n",
        "\n",
        ".gap-above\n",
        "{\n",
        "  padding-top: 200px;\n",
        "  }\n",
        "\n",
        ".gap01\n",
        "{\n",
        "  padding-top: 10px;\n",
        "  }\n",
        "\n",
        ".gap05\n",
        "{\n",
        "  padding-top: 50px;\n",
        "  }\n",
        "\n",
        ".gap1\n",
        "{\n",
        "  padding-top: 100px;\n",
        "  }\n",
        "\n",
        ".gap2\n",
        "{\n",
        "  padding-top: 200px;\n",
        "  }\n",
        "\n",
        ".gap3\n",
        "{\n",
        "  padding-top: 300px;\n",
        "  }\n",
        "\n",
        ".emph\n",
        "{\n",
        "  color: #386BBC;\n",
        "  }\n",
        "\n",
        ".warn\n",
        "{\n",
        "  color: red;\n",
        "  }\n",
        "\n",
        ".center\n",
        "{\n",
        "  text-align: center;\n",
        "  }\n",
        "\n",
        ".nb_link\n",
        "{\n",
        "    padding-bottom: 0.5em;\n",
        "}\n",
        "\n",
        "</style>\n"
       ],
       "metadata": {},
       "output_type": "display_data",
       "text": [
        "<IPython.core.display.HTML at 0x375d510>"
       ]
      }
     ],
     "prompt_number": 1
    },
    {
     "cell_type": "markdown",
     "metadata": {
      "slideshow": {
       "slide_type": "slide"
      }
     },
     "source": [
      "## Blosc\n",
      "\n",
      "* High throughput codec created by Francesc Alted of PyTables fame\n",
      "\n",
      "  * Blocking (but not in the IO sense)\n",
      "  * Shuffling\n",
      "  * Fast\n",
      "  * Multithreaded\n",
      "  * Designed for in-memory compression\n",
      "  \n",
      "* http://blosc.pytables.org/trac"
     ]
    },
    {
     "cell_type": "markdown",
     "metadata": {
      "slideshow": {
       "slide_type": "slide"
      }
     },
     "source": [
      "## Memory Hierarchy\n",
      "\n",
      "<center>\n",
      "    <img src=\"files/architecture_evolution.png\" />\n",
      "</center>"
     ]
    },
    {
     "cell_type": "markdown",
     "metadata": {
      "slideshow": {
       "slide_type": "slide"
      }
     },
     "source": [
      "## Blosc mid 2012\n",
      "\n",
      "<table>\n",
      "<tr>\n",
      "<td><img src=\"files/linux-3930K-compr-small.png\" alt=\"compression\"></td>\n",
      "<td><img src=\"files/linux-3930K-decompr-small.png\" alt=\"compression\"></td>\n",
      "</tr>\n",
      "</table> \n",
      "\n",
      "http://blosc.pytables.org/trac/wiki/SyntheticBenchmarks"
     ]
    },
    {
     "cell_type": "markdown",
     "metadata": {
      "slideshow": {
       "slide_type": "slide"
      }
     },
     "source": [
      "## Bloscpack\n",
      "\n",
      "* Initially:\n",
      "  * A toy to learn more about Blosc\n",
      "\n",
      "\n",
      "* Became:\n",
      "  * Persist Blosc compressed buffers to disk\n",
      "  * Reduce IO load during serialization\n",
      "  * Generalized storage format for binary data"
     ]
    },
    {
     "cell_type": "markdown",
     "metadata": {
      "slideshow": {
       "slide_type": "slide"
      }
     },
     "source": [
      "## Facts\n",
      "\n",
      "* Version: `0.4.0-rc1`\n",
      "* Apprx 1000 commits\n",
      "* 94 % test coverage\n",
      "* Pylint score: 7.27/10\n",
      "* LOC: Blank 466 - Comment 681 - Code 1503\n",
      "* Python 2.6 and 2.7\n",
      "* Pure Python\n",
      "* Uses [`python-blosc`](http://blosc.pytables.org/trac/wiki/SyntheticBenchmarks) to interface with Blosc"
     ]
    },
    {
     "cell_type": "markdown",
     "metadata": {
      "slideshow": {
       "slide_type": "slide"
      }
     },
     "source": [
      "## Features\n",
      "\n",
      "* Format\n",
      "  * Chunks\n",
      "  * Offsets\n",
      "  * Checksum\n",
      "  * Metadata\n",
      "  * Lightweight\n",
      "\n",
      "* Software\n",
      "\n",
      "  * Command line interface\n",
      "  * Beginnings of a Python API"
     ]
    },
    {
     "cell_type": "markdown",
     "metadata": {
      "slideshow": {
       "slide_type": "slide"
      }
     },
     "source": [
      "## Format\n",
      "\n",
      "\n",
      "#### File layout\n",
      "\n",
      "<code>\n",
      "|-header-|-meta-|-offsets-|-chunk-|-checksum-|-chunk-|-checksum-|...|\n",
      "</code>\n",
      "\n",
      "#### Header format\n",
      "\n",
      "<code>\n",
      "|-0-|-1-|-2-|-3-|-4-|-5-|-6-|-7-|-8-|-9-|-A-|-B-|-C-|-D-|-E-|-F-|\n",
      "| b   l   p   k | ^ | ^ | ^ | ^ |   chunk-size  |  last-chunk   |\n",
      "                  |   |   |   |\n",
      "      version ----+   |   |   |\n",
      "      options --------+   |   |\n",
      "     checksum ------------+   |\n",
      "     typesize ----------------+\n",
      "\n",
      "|-0-|-1-|-2-|-3-|-4-|-5-|-6-|-7-|-8-|-9-|-A-|-B-|-C-|-D-|-E-|-F-|\n",
      "|            nchunks            |        max-app-chunks         |\n",
      "</code>"
     ]
    },
    {
     "cell_type": "markdown",
     "metadata": {
      "slideshow": {
       "slide_type": "slide"
      }
     },
     "source": [
      "## Serialize Numpy arrays (since 2013-08-13)\n",
      "\n",
      "* Store `dtype`, `shape` and `order` in metadata section\n",
      "* Compress/Decompress directly from and into the Numpy data buffer\n",
      "* Requires the array to be contiguous\n",
      "* Made possible by recent improvements to python-blosc"
     ]
    },
    {
     "cell_type": "code",
     "collapsed": false,
     "input": [
      "import numpy as np\n",
      "import bloscpack as bp\n",
      "a = np.linspace(0,100, 2e8)"
     ],
     "language": "python",
     "metadata": {},
     "outputs": []
    },
    {
     "cell_type": "code",
     "collapsed": false,
     "input": [
      "bp.pack_ndarray_file(a, 'a.blp')\n",
      "b = bp.unpack_ndarray_file('a.blp')\n",
      "(a == b).all() "
     ],
     "language": "python",
     "metadata": {},
     "outputs": []
    },
    {
     "cell_type": "code",
     "collapsed": false,
     "input": [
      "del a, b\n"
     ],
     "language": "python",
     "metadata": {},
     "outputs": []
    },
    {
     "cell_type": "code",
     "collapsed": false,
     "input": [
      "!/home/esc/gw/bloscpack/bloscpack.py info a.blp"
     ],
     "language": "python",
     "metadata": {},
     "outputs": []
    },
    {
     "cell_type": "markdown",
     "metadata": {
      "slideshow": {
       "slide_type": "slide"
      }
     },
     "source": [
      "## NPY ( Robert Kern, 2007)\n",
      "\n",
      "\n",
      "* Represent all NumPy arrays including nested record\n",
      "  arrays and object arrays. [n]\n",
      "\n",
      "* Represent the data in its native binary form. [y]\n",
      "\n",
      "* Be contained in a single file. [y]\n",
      "\n",
      "* Support Fortran-contiguous arrays directly. [y]\n",
      "\n",
      "* Store all of the necessary information to reconstruct the array\n",
      "  including shape and dtype on a machine of a different\n",
      "  architecture [...] Endianness [...] Type. [maybe]\n",
      "\n",
      "* Be reverse engineered. [y]\n",
      "\n",
      "* Allow memory-mapping of the data. [maybe]\n",
      "\n",
      "* Be read from a file-like stream object instead of an actual file. [y]\n",
      "\n",
      "* Be read and written using APIs provided in the numpy package. [n]"
     ]
    },
    {
     "cell_type": "markdown",
     "metadata": {
      "slideshow": {
       "slide_type": "slide"
      }
     },
     "source": [
      "## NPZ\n",
      "\n",
      "* One or more `NPY` files in a ZipFile\n",
      "* Optional compresion with ZIP (DEFLATE)"
     ]
    },
    {
     "cell_type": "heading",
     "level": 2,
     "metadata": {
      "slideshow": {
       "slide_type": "slide"
      }
     },
     "source": [
      "Demo"
     ]
    },
    {
     "cell_type": "code",
     "collapsed": false,
     "input": [
      "import numpy as np\n",
      "import bloscpack as bp\n",
      "a = np.linspace(0,100, 2e8)"
     ],
     "language": "python",
     "metadata": {},
     "outputs": []
    },
    {
     "cell_type": "code",
     "collapsed": false,
     "input": [
      "%time np.save('a.npy', a) ; bp.sync()"
     ],
     "language": "python",
     "metadata": {},
     "outputs": []
    },
    {
     "cell_type": "code",
     "collapsed": false,
     "input": [
      "%time bp.pack_ndarray_file(a, 'a.blp') ; bp.sync()"
     ],
     "language": "python",
     "metadata": {},
     "outputs": []
    },
    {
     "cell_type": "code",
     "collapsed": false,
     "input": [
      "del a"
     ],
     "language": "python",
     "metadata": {},
     "outputs": []
    },
    {
     "cell_type": "code",
     "collapsed": false,
     "input": [
      "%time b = np.load('a.npy')"
     ],
     "language": "python",
     "metadata": {},
     "outputs": []
    },
    {
     "cell_type": "code",
     "collapsed": false,
     "input": [
      "%time b = bp.unpack_ndarray_file('a.blp')"
     ],
     "language": "python",
     "metadata": {},
     "outputs": []
    },
    {
     "cell_type": "code",
     "collapsed": false,
     "input": [
      "del b"
     ],
     "language": "python",
     "metadata": {},
     "outputs": []
    },
    {
     "cell_type": "code",
     "collapsed": false,
     "input": [
      "bp.drop_caches()\n",
      "%time b = np.load('a.npy')"
     ],
     "language": "python",
     "metadata": {
      "slideshow": {
       "slide_type": "fragment"
      }
     },
     "outputs": []
    },
    {
     "cell_type": "code",
     "collapsed": false,
     "input": [
      "bp.drop_caches()\n",
      "%time b = bp.unpack_ndarray_file('a.blp')"
     ],
     "language": "python",
     "metadata": {
      "slideshow": {
       "slide_type": "fragment"
      }
     },
     "outputs": []
    },
    {
     "cell_type": "code",
     "collapsed": false,
     "input": [
      "!du -sch a.npy a.blp"
     ],
     "language": "python",
     "metadata": {
      "slideshow": {
       "slide_type": "fragment"
      }
     },
     "outputs": []
    },
    {
     "cell_type": "markdown",
     "metadata": {
      "slideshow": {
       "slide_type": "slide"
      }
     },
     "source": [
      "## Real-world use-case #1: Joblib\n",
      "\n",
      "* [Joblib](http://pythonhosted.org/joblib/) (G. Varoquaux, O. Grisel, et. al.)\n",
      "* `Memory` object that caches function input and output\n",
      "* Uses `npy` for uncompressed storage\n",
      "* Uses custom `ZFile` format for compressed storage\n",
      "* Based on `zlib` (`gzip`)\n",
      "\n",
      "\n",
      "* Bloscpack *could* be an alternative\n",
      "  * (I have two experimental branches with different implementation strategies)"
     ]
    },
    {
     "cell_type": "code",
     "collapsed": true,
     "input": [
      "import joblib as joblib\n",
      "import numpy as np\n",
      "memory = joblib.Memory(cachedir='/tmp/joblib',\n",
      "                       verbose=100, compress=7,\n",
      "                       codec='bloscpack')\n",
      "\n",
      "@memory.cache\n",
      "def f(size):\n",
      "    return np.linspace(0, np.pi*16, size)\n",
      "  \n",
      "f(2e8)"
     ],
     "language": "python",
     "metadata": {},
     "outputs": []
    },
    {
     "cell_type": "markdown",
     "metadata": {
      "slideshow": {
       "slide_type": "slide"
      }
     },
     "source": [
      "## Real-world use-case #2: Blaze\n",
      "\n",
      "* [Blaze](http://blaze.pydata.org/) (Continuum Analytics)\n",
      "* Uses Blosc as an in-memory representation\n",
      "* Serializes to disk using Bloscpack\n",
      "\n",
      "<center>\n",
      "<image src=\"files/blz_layout_cropped.png\"/>\n",
      "</center>\n",
      "\n",
      "http://continuum.io/blog/blz-format"
     ]
    },
    {
     "cell_type": "markdown",
     "metadata": {},
     "source": [
      "## Benchmarks\n",
      "\n",
      "* How am I doing with time?\n",
      "\n",
      "* If I do show benchmarks, remind me to show the last slide!"
     ]
    },
    {
     "cell_type": "markdown",
     "metadata": {
      "slideshow": {
       "slide_type": "slide"
      }
     },
     "source": [
      "## Thanks and Future Work\n",
      "\n",
      "* Many thanks to Francesc Alted for inspiration and advice\n",
      "\n",
      "\n",
      "* Implement quasi-mem-mapping\n",
      "* Stabilize and document Python API\n",
      "* Object and record arrays and endinaness for Numpy serialization\n",
      "* Run the memory profiler\n",
      "* Python 3 support\n",
      "* Utilities for interacting with S3 (maybe)\n",
      "\n",
      "\n",
      "* Does anyone have biggish iron for me to run benchmarks on?\n",
      "  * Multi CPU / NUMA machines with lots of memory..."
     ]
    },
    {
     "cell_type": "markdown",
     "metadata": {},
     "source": [
      "## "
     ]
    }
   ],
   "metadata": {}
  }
 ]
}